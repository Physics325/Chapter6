{
 "cells": [
  {
   "cell_type": "markdown",
   "metadata": {},
   "source": [
    "In this notebook, you will complete a simple calculation for the value of Pi. Of course, we know Pi already but the reason to code this is to get some experience using monte carlo (i.e. random number) approaches to solving complex problems."
   ]
  },
  {
   "cell_type": "code",
   "execution_count": 1,
   "metadata": {
    "collapsed": true
   },
   "outputs": [],
   "source": [
    "import numpy as np\n",
    "import numpy.random as nprand\n",
    "import matplotlib.pyplot as plt\n",
    "%matplotlib inline"
   ]
  },
  {
   "cell_type": "markdown",
   "metadata": {},
   "source": [
    "To compute Pi, we want to find the area of a quarter circle by counting the fraction of points that land inside the circle. The following steps will help you implement this:\n",
    "\n",
    "1. What is the test to check if an x,y point is inside the circle?\n",
    "\n",
    "2. Write code that repeats the following steps:\n",
    "    - generate a random x,y pair within the coordinates [0,1)\n",
    "    - tests if the point x,y is within the quarter-circle\n",
    "    - increment a counter for points that are within the circle\n",
    "    \n",
    "3. How do you convert from a count of \"points within the circle\" to an area? How do you correct for the fact that we only have a quarter circle in this calculation?\n",
    "\n",
    "4. Bonus: Create a plot that shows how the value converges to an answer (you may have to modify parts of the code to save data for this plot). "
   ]
  },
  {
   "cell_type": "code",
   "execution_count": 42,
   "metadata": {
    "collapsed": false
   },
   "outputs": [],
   "source": [
    "# Solution goes here"
   ]
  },
  {
   "cell_type": "code",
   "execution_count": 43,
   "metadata": {
    "collapsed": false
   },
   "outputs": [],
   "source": [
    "# Solution goes here"
   ]
  },
  {
   "cell_type": "code",
   "execution_count": 45,
   "metadata": {
    "collapsed": false
   },
   "outputs": [],
   "source": [
    "# Solution goes here"
   ]
  },
  {
   "cell_type": "code",
   "execution_count": null,
   "metadata": {
    "collapsed": true
   },
   "outputs": [],
   "source": []
  }
 ],
 "metadata": {
  "kernelspec": {
   "display_name": "Python 3",
   "language": "python",
   "name": "python3"
  },
  "language_info": {
   "codemirror_mode": {
    "name": "ipython",
    "version": 3
   },
   "file_extension": ".py",
   "mimetype": "text/x-python",
   "name": "python",
   "nbconvert_exporter": "python",
   "pygments_lexer": "ipython3",
   "version": "3.5.1"
  }
 },
 "nbformat": 4,
 "nbformat_minor": 0
}
