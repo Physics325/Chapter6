{
 "cells": [
  {
   "cell_type": "code",
   "execution_count": 1,
   "metadata": {
    "collapsed": true
   },
   "outputs": [],
   "source": [
    "import numpy as np\n",
    "import matplotlib.pyplot as plt\n",
    "import matplotlib.animation as animation"
   ]
  },
  {
   "cell_type": "code",
   "execution_count": 2,
   "metadata": {
    "collapsed": true
   },
   "outputs": [],
   "source": [
    "def init_system(size=20):\n",
    "    system = np.random.choice([-1,1],size=(size,size))\n",
    "    return system"
   ]
  },
  {
   "cell_type": "code",
   "execution_count": 3,
   "metadata": {
    "collapsed": true
   },
   "outputs": [],
   "source": [
    "def energy(system,row,col):\n",
    "    size = system.shape[0]\n",
    "    top = system[row-1,col%size]\n",
    "    left = system[row%size,col-1]\n",
    "    right = system[row%size,(col+1)%size]\n",
    "    bottom = system[(row+1)%size,col%size]\n",
    "    return -1.0 * system[row,col] * (top + left + right + bottom)"
   ]
  },
  {
   "cell_type": "code",
   "execution_count": 29,
   "metadata": {
    "collapsed": true
   },
   "outputs": [],
   "source": [
    "def update_ising(system,T=0.2,steps=500):\n",
    "    size = system.shape[0]\n",
    "    for step, x in enumerate(range(steps)):\n",
    "        row = np.random.randint(0,size)\n",
    "        col = np.random.randint(0,size)\n",
    "\n",
    "        E = -2.0 * energy(system, row, col)\n",
    "\n",
    "        if E <= 0.0:\n",
    "            system[row,col] *= -1\n",
    "        elif np.exp(-1./T*E) > np.random.rand():\n",
    "            system[row,col] *= -1\n",
    "        \n",
    "\n",
    "\n",
    "def animate(framenumber,system,T,steps):\n",
    "    update_ising(system,T=T,steps=steps)\n",
    "    im.set_array(system)\n",
    "    return im,"
   ]
  },
  {
   "cell_type": "code",
   "execution_count": 30,
   "metadata": {
    "collapsed": false
   },
   "outputs": [],
   "source": [
    "system = init_system(50)\n",
    "fig = plt.figure()\n",
    "im = plt.imshow(system, interpolation=\"none\", animated=True)"
   ]
  },
  {
   "cell_type": "code",
   "execution_count": 15,
   "metadata": {
    "collapsed": false
   },
   "outputs": [],
   "source": [
    "ani = animation.FuncAnimation(fig, animate, frames=100, blit=True, fargs=(system, 0.2, 1000))"
   ]
  },
  {
   "cell_type": "code",
   "execution_count": 16,
   "metadata": {
    "collapsed": false
   },
   "outputs": [],
   "source": [
    "ani.save(\"ising.mp4\")"
   ]
  },
  {
   "cell_type": "code",
   "execution_count": 17,
   "metadata": {
    "collapsed": true
   },
   "outputs": [],
   "source": [
    "!open ising.mp4"
   ]
  },
  {
   "cell_type": "code",
   "execution_count": 49,
   "metadata": {
    "collapsed": false
   },
   "outputs": [
    {
     "name": "stderr",
     "output_type": "stream",
     "text": [
      "/Users/dawes/anaconda/lib/python3.5/site-packages/ipykernel/__main__.py:11: RuntimeWarning: divide by zero encountered in double_scalars\n"
     ]
    }
   ],
   "source": [
    "mag = []\n",
    "size = 15\n",
    "temp = np.linspace(0,10,50)\n",
    "for t in temp:\n",
    "    system = init_system(size)\n",
    "    update_ising(system,T=t,steps=50000)\n",
    "    mag.append(np.abs(system.sum()/(size**2)))"
   ]
  },
  {
   "cell_type": "code",
   "execution_count": 50,
   "metadata": {
    "collapsed": false
   },
   "outputs": [],
   "source": [
    "plt.figure()\n",
    "plt.plot(temp,mag,\".-\")\n",
    "plt.show()"
   ]
  },
  {
   "cell_type": "code",
   "execution_count": null,
   "metadata": {
    "collapsed": true
   },
   "outputs": [],
   "source": []
  }
 ],
 "metadata": {
  "kernelspec": {
   "display_name": "Python 3",
   "language": "python",
   "name": "python3"
  },
  "language_info": {
   "codemirror_mode": {
    "name": "ipython",
    "version": 3
   },
   "file_extension": ".py",
   "mimetype": "text/x-python",
   "name": "python",
   "nbconvert_exporter": "python",
   "pygments_lexer": "ipython3",
   "version": "3.5.1"
  }
 },
 "nbformat": 4,
 "nbformat_minor": 0
}
